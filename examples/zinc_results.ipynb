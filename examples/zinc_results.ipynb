{
 "cells": [
  {
   "cell_type": "markdown",
   "metadata": {},
   "source": [
    "# Results on the ZINC dataset"
   ]
  },
  {
   "cell_type": "markdown",
   "metadata": {},
   "source": [
    "### Figure 2: Representations of the sampling results from the variational autoencoder"
   ]
  },
  {
   "cell_type": "markdown",
   "metadata": {},
   "source": [
    "a) Kernel Density Estimation (KDE) of each latent dimension of the autoencoder, i.e., the distribution of encoded molecules along each dimension of our latent space representation\n",
    "\n",
    "![](../aux_data/fig2a.PNG)\n"
   ]
  },
  {
   "cell_type": "code",
   "execution_count": null,
   "metadata": {},
   "outputs": [],
   "source": [
    "# TODO: replicate KDE plot"
   ]
  },
  {
   "cell_type": "markdown",
   "metadata": {},
   "source": [
    "b) histogram of sampled\n",
    "molecules for a single point in the latent space; the distances of the molecules from the original query are shown by the lines corresponding to the right axis\n",
    "\n",
    "\n",
    "![](../aux_data/fig2b.PNG)"
   ]
  },
  {
   "cell_type": "code",
   "execution_count": null,
   "metadata": {},
   "outputs": [],
   "source": [
    "# TODO: replicate histogram with ZINC model"
   ]
  },
  {
   "cell_type": "markdown",
   "metadata": {},
   "source": [
    "c) molecules sampled near the location of ibuprofen in latent space. The values below the molecules are the distance in latent space from\n",
    "the decoded molecule to ibuprofen\n",
    "\n",
    "![](../aux_data/fig2c.PNG)"
   ]
  },
  {
   "cell_type": "code",
   "execution_count": null,
   "metadata": {},
   "outputs": [],
   "source": [
    "# TODO: replicate results"
   ]
  },
  {
   "cell_type": "markdown",
   "metadata": {},
   "source": [
    "d) slerp interpolation between two molecules in latent space using six steps of equal distance\n",
    "\n",
    "![](../aux_data/fig2d.PNG)"
   ]
  },
  {
   "cell_type": "code",
   "execution_count": null,
   "metadata": {},
   "outputs": [],
   "source": [
    "# TODO: replicate results"
   ]
  },
  {
   "cell_type": "markdown",
   "metadata": {},
   "source": [
    "# TODO: figure 3\n",
    "# TODO: table 1 (model without property prediction)\n",
    "# TODO: table 2 (model with property prediction)\n",
    "# TODO: figure 4 (need to implement the gaussian process)"
   ]
  }
 ],
 "metadata": {
  "kernelspec": {
   "display_name": "chemvae",
   "language": "python",
   "name": "python3"
  },
  "language_info": {
   "name": "python",
   "version": "3.6.13"
  }
 },
 "nbformat": 4,
 "nbformat_minor": 2
}
