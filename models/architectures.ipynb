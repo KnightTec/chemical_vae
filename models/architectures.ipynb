{
 "cells": [
  {
   "cell_type": "code",
   "execution_count": 5,
   "metadata": {},
   "outputs": [],
   "source": [
    "import pubchempy as pcp\n",
    "import seaborn as sns\n",
    "\n",
    "# tensorflow backend\n",
    "from os import environ\n",
    "environ['KERAS_BACKEND'] = 'tensorflow'\n",
    "# vae stuff\n",
    "from chemvae.vae_utils import VAEUtils\n",
    "from chemvae import mol_utils as mu\n",
    "# import scientific py\n",
    "import numpy as np\n",
    "import pandas as pd\n",
    "# plotting stuff\n",
    "import matplotlib.pyplot as plt\n",
    "import matplotlib as mpl\n",
    "from IPython.display import SVG, display\n",
    "%config InlineBackend.figure_format = 'retina'\n",
    "%matplotlib inline"
   ]
  },
  {
   "cell_type": "markdown",
   "metadata": {},
   "source": [
    "# ZINC models"
   ]
  },
  {
   "cell_type": "code",
   "execution_count": 2,
   "metadata": {},
   "outputs": [
    {
     "name": "stderr",
     "output_type": "stream",
     "text": [
      "From /home/sven/miniconda3/envs/chemvae/lib/python3.6/site-packages/keras/backend/tensorflow_backend.py:432: The name tf.placeholder is deprecated. Please use tf.compat.v1.placeholder instead.\n",
      "\n",
      "From /home/sven/miniconda3/envs/chemvae/lib/python3.6/site-packages/keras/backend/tensorflow_backend.py:3535: The name tf.random_uniform is deprecated. Please use tf.random.uniform instead.\n",
      "\n",
      "From /home/sven/miniconda3/envs/chemvae/lib/python3.6/site-packages/keras/backend/tensorflow_backend.py:113: The name tf.get_default_graph is deprecated. Please use tf.compat.v1.get_default_graph instead.\n",
      "\n",
      "From /home/sven/miniconda3/envs/chemvae/lib/python3.6/site-packages/keras/backend/tensorflow_backend.py:1210: calling reduce_prod_v1 (from tensorflow.python.ops.math_ops) with keep_dims is deprecated and will be removed in a future version.\n",
      "Instructions for updating:\n",
      "keep_dims is deprecated, use keepdims instead\n",
      "From /home/sven/miniconda3/envs/chemvae/lib/python3.6/site-packages/keras/backend/tensorflow_backend.py:2878: calling dropout (from tensorflow.python.ops.nn_ops) with keep_prob is deprecated and will be removed in a future version.\n",
      "Instructions for updating:\n",
      "Please use `rate` instead of `keep_prob`. Rate should be set to `rate = 1 - keep_prob`.\n",
      "From /home/sven/miniconda3/envs/chemvae/lib/python3.6/site-packages/keras/backend/tensorflow_backend.py:154: The name tf.get_default_session is deprecated. Please use tf.compat.v1.get_default_session instead.\n",
      "\n",
      "From /home/sven/miniconda3/envs/chemvae/lib/python3.6/site-packages/keras/backend/tensorflow_backend.py:159: The name tf.ConfigProto is deprecated. Please use tf.compat.v1.ConfigProto instead.\n",
      "\n",
      "From /home/sven/miniconda3/envs/chemvae/lib/python3.6/site-packages/keras/backend/tensorflow_backend.py:164: The name tf.Session is deprecated. Please use tf.compat.v1.Session instead.\n",
      "\n",
      "From /home/sven/miniconda3/envs/chemvae/lib/python3.6/site-packages/keras/backend/tensorflow_backend.py:333: The name tf.global_variables is deprecated. Please use tf.compat.v1.global_variables instead.\n",
      "\n",
      "From /home/sven/miniconda3/envs/chemvae/lib/python3.6/site-packages/keras/backend/tensorflow_backend.py:341: The name tf.variables_initializer is deprecated. Please use tf.compat.v1.variables_initializer instead.\n",
      "\n",
      "/home/sven/miniconda3/envs/chemvae/lib/python3.6/site-packages/keras/models.py:245: UserWarning: No training configuration found in save file: the model was *not* compiled. Compile it manually.\n",
      "  warnings.warn('No training configuration found in save file: '\n",
      "From /home/sven/miniconda3/envs/chemvae/lib/python3.6/site-packages/keras/backend/tensorflow_backend.py:1192: calling reduce_sum_v1 (from tensorflow.python.ops.math_ops) with keep_dims is deprecated and will be removed in a future version.\n",
      "Instructions for updating:\n",
      "keep_dims is deprecated, use keepdims instead\n",
      "From /home/sven/miniconda3/envs/chemvae/lib/python3.6/site-packages/chemvae/sampled_rnn_tf.py:64: The name tf.set_random_seed is deprecated. Please use tf.compat.v1.set_random_seed instead.\n",
      "\n",
      "From /home/sven/miniconda3/envs/chemvae/lib/python3.6/site-packages/keras/backend/tensorflow_backend.py:1156: calling reduce_max_v1 (from tensorflow.python.ops.math_ops) with keep_dims is deprecated and will be removed in a future version.\n",
      "Instructions for updating:\n",
      "keep_dims is deprecated, use keepdims instead\n"
     ]
    },
    {
     "name": "stdout",
     "output_type": "stream",
     "text": [
      "Using standarized functions? True\n",
      "Standarization: estimating mu and std values ...done!\n"
     ]
    },
    {
     "name": "stderr",
     "output_type": "stream",
     "text": [
      "/home/sven/miniconda3/envs/chemvae/lib/python3.6/site-packages/keras/models.py:245: UserWarning: No training configuration found in save file: the model was *not* compiled. Compile it manually.\n",
      "  warnings.warn('No training configuration found in save file: '\n"
     ]
    },
    {
     "name": "stdout",
     "output_type": "stream",
     "text": [
      "Using standarized functions? True\n",
      "Standarization: estimating mu and std values ...done!\n"
     ]
    },
    {
     "name": "stderr",
     "output_type": "stream",
     "text": [
      "/home/sven/miniconda3/envs/chemvae/lib/python3.6/site-packages/keras/models.py:245: UserWarning: No training configuration found in save file: the model was *not* compiled. Compile it manually.\n",
      "  warnings.warn('No training configuration found in save file: '\n"
     ]
    },
    {
     "name": "stdout",
     "output_type": "stream",
     "text": [
      "Using standarized functions? True\n",
      "Standarization: estimating mu and std values ...done!\n"
     ]
    },
    {
     "name": "stderr",
     "output_type": "stream",
     "text": [
      "/home/sven/miniconda3/envs/chemvae/lib/python3.6/site-packages/keras/models.py:245: UserWarning: No training configuration found in save file: the model was *not* compiled. Compile it manually.\n",
      "  warnings.warn('No training configuration found in save file: '\n"
     ]
    },
    {
     "name": "stdout",
     "output_type": "stream",
     "text": [
      "Using standarized functions? True\n",
      "Standarization: estimating mu and std values ...done!\n"
     ]
    }
   ],
   "source": [
    "vae_zinc = VAEUtils(directory='../models/zinc')\n",
    "vae_zinc_prop = VAEUtils(directory='../models/zinc_properties')\n",
    "\n",
    "vae_zinc_2 = VAEUtils(directory='../models/zinc_2')\n",
    "vae_zinc_prop_2 = VAEUtils(directory='../models/zinc_properties_2')"
   ]
  },
  {
   "cell_type": "markdown",
   "metadata": {},
   "source": [
    "## Without property predection"
   ]
  },
  {
   "cell_type": "code",
   "execution_count": 9,
   "metadata": {},
   "outputs": [
    {
     "name": "stdout",
     "output_type": "stream",
     "text": [
      "Encoder:\n",
      "_________________________________________________________________\n",
      "Layer (type)                 Output Shape              Param #   \n",
      "=================================================================\n",
      "input_molecule_smi (InputLay (None, 120, 35)           0         \n",
      "_________________________________________________________________\n",
      "encoder_conv0 (Conv1D)       (None, 112, 9)            2844      \n",
      "_________________________________________________________________\n",
      "encoder_norm0 (BatchNormaliz (None, 112, 9)            36        \n",
      "_________________________________________________________________\n",
      "encoder_conv1 (Conv1D)       (None, 104, 9)            738       \n",
      "_________________________________________________________________\n",
      "encoder_norm1 (BatchNormaliz (None, 104, 9)            36        \n",
      "_________________________________________________________________\n",
      "encoder_conv2 (Conv1D)       (None, 94, 10)            1000      \n",
      "_________________________________________________________________\n",
      "encoder_norm2 (BatchNormaliz (None, 94, 10)            40        \n",
      "_________________________________________________________________\n",
      "flatten_1 (Flatten)          (None, 940)               0         \n",
      "_________________________________________________________________\n",
      "encoder_dense0 (Dense)       (None, 196)               184436    \n",
      "_________________________________________________________________\n",
      "dropout_1 (Dropout)          (None, 196)               0         \n",
      "_________________________________________________________________\n",
      "encoder_dense0_norm (BatchNo (None, 196)               784       \n",
      "_________________________________________________________________\n",
      "z_mean_sample (Dense)        (None, 196)               38612     \n",
      "=================================================================\n",
      "Total params: 228,526\n",
      "Trainable params: 228,078\n",
      "Non-trainable params: 448\n",
      "_________________________________________________________________\n",
      "None\n",
      "----------------------------------------------------------\n",
      "Decoder:\n",
      "____________________________________________________________________________________________________\n",
      "Layer (type)                     Output Shape          Param #     Connected to                     \n",
      "====================================================================================================\n",
      "decoder_input (InputLayer)       (None, 196)           0                                            \n",
      "____________________________________________________________________________________________________\n",
      "decoder_dense0 (Dense)           (None, 196)           38612       decoder_input[0][0]              \n",
      "____________________________________________________________________________________________________\n",
      "dropout_2 (Dropout)              (None, 196)           0           decoder_dense0[0][0]             \n",
      "____________________________________________________________________________________________________\n",
      "decoder_dense0_norm (BatchNormal (None, 196)           784         dropout_2[0][0]                  \n",
      "____________________________________________________________________________________________________\n",
      "repeat_vector_1 (RepeatVector)   (None, 120, 196)      0           decoder_dense0_norm[0][0]        \n",
      "____________________________________________________________________________________________________\n",
      "decoder_gru0 (GRU)               (None, 120, 488)      1002840     repeat_vector_1[0][0]            \n",
      "____________________________________________________________________________________________________\n",
      "decoder_gru1 (GRU)               (None, 120, 488)      1430328     decoder_gru0[0][0]               \n",
      "____________________________________________________________________________________________________\n",
      "decoder_gru2 (GRU)               (None, 120, 488)      1430328     decoder_gru1[0][0]               \n",
      "____________________________________________________________________________________________________\n",
      "decoder_true_seq_input (InputLay (None, 120, 35)       0                                            \n",
      "____________________________________________________________________________________________________\n",
      "decoder_tgru (TerminalGRU)       (None, 120, 35)       56280       decoder_gru2[0][0]               \n",
      "                                                                   decoder_true_seq_input[0][0]     \n",
      "====================================================================================================\n",
      "Total params: 3,959,172\n",
      "Trainable params: 3,958,780\n",
      "Non-trainable params: 392\n",
      "____________________________________________________________________________________________________\n",
      "None\n"
     ]
    }
   ],
   "source": [
    "print(\"Encoder:\")\n",
    "print(vae_zinc.enc.summary())\n",
    "print(\"----------------------------------------------------------\")\n",
    "print(\"Decoder:\")\n",
    "print(vae_zinc.dec.summary())"
   ]
  },
  {
   "cell_type": "markdown",
   "metadata": {},
   "source": [
    "## With property predection"
   ]
  },
  {
   "cell_type": "code",
   "execution_count": 3,
   "metadata": {},
   "outputs": [
    {
     "name": "stdout",
     "output_type": "stream",
     "text": [
      "Encoder:\n",
      "_________________________________________________________________\n",
      "Layer (type)                 Output Shape              Param #   \n",
      "=================================================================\n",
      "input_molecule_smi (InputLay (None, 120, 35)           0         \n",
      "_________________________________________________________________\n",
      "encoder_conv0 (Conv1D)       (None, 112, 9)            2844      \n",
      "_________________________________________________________________\n",
      "encoder_norm0 (BatchNormaliz (None, 112, 9)            36        \n",
      "_________________________________________________________________\n",
      "encoder_conv1 (Conv1D)       (None, 104, 9)            738       \n",
      "_________________________________________________________________\n",
      "encoder_norm1 (BatchNormaliz (None, 104, 9)            36        \n",
      "_________________________________________________________________\n",
      "encoder_conv2 (Conv1D)       (None, 94, 10)            1000      \n",
      "_________________________________________________________________\n",
      "encoder_norm2 (BatchNormaliz (None, 94, 10)            40        \n",
      "_________________________________________________________________\n",
      "flatten_1 (Flatten)          (None, 940)               0         \n",
      "_________________________________________________________________\n",
      "encoder_dense0 (Dense)       (None, 196)               184436    \n",
      "_________________________________________________________________\n",
      "dropout_1 (Dropout)          (None, 196)               0         \n",
      "_________________________________________________________________\n",
      "encoder_dense0_norm (BatchNo (None, 196)               784       \n",
      "_________________________________________________________________\n",
      "z_mean_sample (Dense)        (None, 196)               38612     \n",
      "=================================================================\n",
      "Total params: 228,526\n",
      "Trainable params: 228,078\n",
      "Non-trainable params: 448\n",
      "_________________________________________________________________\n",
      "None\n",
      "----------------------------------------------------------\n",
      "Decoder:\n",
      "____________________________________________________________________________________________________\n",
      "Layer (type)                     Output Shape          Param #     Connected to                     \n",
      "====================================================================================================\n",
      "decoder_input (InputLayer)       (None, 196)           0                                            \n",
      "____________________________________________________________________________________________________\n",
      "decoder_dense0 (Dense)           (None, 196)           38612       decoder_input[0][0]              \n",
      "____________________________________________________________________________________________________\n",
      "dropout_2 (Dropout)              (None, 196)           0           decoder_dense0[0][0]             \n",
      "____________________________________________________________________________________________________\n",
      "decoder_dense0_norm (BatchNormal (None, 196)           784         dropout_2[0][0]                  \n",
      "____________________________________________________________________________________________________\n",
      "repeat_vector_1 (RepeatVector)   (None, 120, 196)      0           decoder_dense0_norm[0][0]        \n",
      "____________________________________________________________________________________________________\n",
      "decoder_gru0 (GRU)               (None, 120, 488)      1002840     repeat_vector_1[0][0]            \n",
      "____________________________________________________________________________________________________\n",
      "decoder_gru1 (GRU)               (None, 120, 488)      1430328     decoder_gru0[0][0]               \n",
      "____________________________________________________________________________________________________\n",
      "decoder_gru2 (GRU)               (None, 120, 488)      1430328     decoder_gru1[0][0]               \n",
      "____________________________________________________________________________________________________\n",
      "decoder_true_seq_input (InputLay (None, 120, 35)       0                                            \n",
      "____________________________________________________________________________________________________\n",
      "decoder_tgru (TerminalGRU)       (None, 120, 35)       56280       decoder_gru2[0][0]               \n",
      "                                                                   decoder_true_seq_input[0][0]     \n",
      "====================================================================================================\n",
      "Total params: 3,959,172\n",
      "Trainable params: 3,958,780\n",
      "Non-trainable params: 392\n",
      "____________________________________________________________________________________________________\n",
      "None\n",
      "----------------------------------------------------------\n",
      "Property Predictor:\n",
      "_________________________________________________________________\n",
      "Layer (type)                 Output Shape              Param #   \n",
      "=================================================================\n",
      "prop_pred_input (InputLayer) (None, 196)               0         \n",
      "_________________________________________________________________\n",
      "dense_1 (Dense)              (None, 67)                13199     \n",
      "_________________________________________________________________\n",
      "dropout_3 (Dropout)          (None, 67)                0         \n",
      "_________________________________________________________________\n",
      "property_predictor_dense1 (D (None, 66)                4488      \n",
      "_________________________________________________________________\n",
      "dropout_4 (Dropout)          (None, 66)                0         \n",
      "_________________________________________________________________\n",
      "batch_normalization_1 (Batch (None, 66)                264       \n",
      "_________________________________________________________________\n",
      "property_predictor_dense2 (D (None, 65)                4355      \n",
      "_________________________________________________________________\n",
      "dropout_5 (Dropout)          (None, 65)                0         \n",
      "_________________________________________________________________\n",
      "batch_normalization_2 (Batch (None, 65)                260       \n",
      "_________________________________________________________________\n",
      "reg_property_output (Dense)  (None, 3)                 198       \n",
      "=================================================================\n",
      "Total params: 22,764\n",
      "Trainable params: 22,502\n",
      "Non-trainable params: 262\n",
      "_________________________________________________________________\n",
      "None\n"
     ]
    }
   ],
   "source": [
    "print(\"Encoder:\")\n",
    "print(vae_zinc_prop.enc.summary())\n",
    "print(\"----------------------------------------------------------\")\n",
    "print(\"Decoder:\")\n",
    "print(vae_zinc_prop.dec.summary())\n",
    "print(\"----------------------------------------------------------\")\n",
    "print(\"Property Predictor:\")\n",
    "print(vae_zinc_prop.property_predictor.summary())"
   ]
  },
  {
   "cell_type": "markdown",
   "metadata": {},
   "source": []
  },
  {
   "cell_type": "markdown",
   "metadata": {},
   "source": [
    "# QM9 Models"
   ]
  },
  {
   "cell_type": "code",
   "execution_count": 7,
   "metadata": {},
   "outputs": [
    {
     "name": "stderr",
     "output_type": "stream",
     "text": [
      "/home/sven/miniconda3/envs/chemvae/lib/python3.6/site-packages/keras/models.py:245: UserWarning: No training configuration found in save file: the model was *not* compiled. Compile it manually.\n",
      "  warnings.warn('No training configuration found in save file: '\n"
     ]
    },
    {
     "name": "stdout",
     "output_type": "stream",
     "text": [
      "Using standarized functions? True\n",
      "Standarization: estimating mu and std values ...done!\n"
     ]
    },
    {
     "name": "stderr",
     "output_type": "stream",
     "text": [
      "/home/sven/miniconda3/envs/chemvae/lib/python3.6/site-packages/keras/models.py:245: UserWarning: No training configuration found in save file: the model was *not* compiled. Compile it manually.\n",
      "  warnings.warn('No training configuration found in save file: '\n"
     ]
    },
    {
     "name": "stdout",
     "output_type": "stream",
     "text": [
      "Using standarized functions? True\n",
      "Standarization: estimating mu and std values ...done!\n"
     ]
    }
   ],
   "source": [
    "vae_qm9 = VAEUtils(directory='./qm9')\n",
    "vae_qm9_prop = VAEUtils(directory='./qm9_properties')"
   ]
  },
  {
   "cell_type": "markdown",
   "metadata": {},
   "source": [
    "## Without property prediction"
   ]
  },
  {
   "cell_type": "code",
   "execution_count": 5,
   "metadata": {},
   "outputs": [
    {
     "name": "stdout",
     "output_type": "stream",
     "text": [
      "Encoder:\n",
      "_________________________________________________________________\n",
      "Layer (type)                 Output Shape              Param #   \n",
      "=================================================================\n",
      "input_molecule_smi (InputLay (None, 34, 22)            0         \n",
      "_________________________________________________________________\n",
      "encoder_conv0 (Conv1D)       (None, 30, 2)             222       \n",
      "_________________________________________________________________\n",
      "encoder_norm0 (BatchNormaliz (None, 30, 2)             8         \n",
      "_________________________________________________________________\n",
      "encoder_conv1 (Conv1D)       (None, 26, 2)             22        \n",
      "_________________________________________________________________\n",
      "encoder_norm1 (BatchNormaliz (None, 26, 2)             8         \n",
      "_________________________________________________________________\n",
      "encoder_conv2 (Conv1D)       (None, 23, 1)             9         \n",
      "_________________________________________________________________\n",
      "encoder_norm2 (BatchNormaliz (None, 23, 1)             4         \n",
      "_________________________________________________________________\n",
      "flatten_1 (Flatten)          (None, 23)                0         \n",
      "_________________________________________________________________\n",
      "encoder_dense0 (Dense)       (None, 156)               3744      \n",
      "_________________________________________________________________\n",
      "dropout_1 (Dropout)          (None, 156)               0         \n",
      "_________________________________________________________________\n",
      "encoder_dense0_norm (BatchNo (None, 156)               624       \n",
      "_________________________________________________________________\n",
      "z_mean_sample (Dense)        (None, 156)               24492     \n",
      "=================================================================\n",
      "Total params: 29,133\n",
      "Trainable params: 28,811\n",
      "Non-trainable params: 322\n",
      "_________________________________________________________________\n",
      "None\n",
      "----------------------------------------------------------\n",
      "Decoder:\n",
      "____________________________________________________________________________________________________\n",
      "Layer (type)                     Output Shape          Param #     Connected to                     \n",
      "====================================================================================================\n",
      "decoder_input (InputLayer)       (None, 156)           0                                            \n",
      "____________________________________________________________________________________________________\n",
      "decoder_dense0 (Dense)           (None, 156)           24492       decoder_input[0][0]              \n",
      "____________________________________________________________________________________________________\n",
      "dropout_2 (Dropout)              (None, 156)           0           decoder_dense0[0][0]             \n",
      "____________________________________________________________________________________________________\n",
      "decoder_dense0_norm (BatchNormal (None, 156)           624         dropout_2[0][0]                  \n",
      "____________________________________________________________________________________________________\n",
      "repeat_vector_1 (RepeatVector)   (None, 34, 156)       0           decoder_dense0_norm[0][0]        \n",
      "____________________________________________________________________________________________________\n",
      "decoder_gru0 (GRU)               (None, 34, 488)       944280      repeat_vector_1[0][0]            \n",
      "____________________________________________________________________________________________________\n",
      "decoder_gru1 (GRU)               (None, 34, 488)       1430328     decoder_gru0[0][0]               \n",
      "____________________________________________________________________________________________________\n",
      "decoder_gru2 (GRU)               (None, 34, 488)       1430328     decoder_gru1[0][0]               \n",
      "____________________________________________________________________________________________________\n",
      "decoder_true_seq_input (InputLay (None, 34, 22)        0                                            \n",
      "____________________________________________________________________________________________________\n",
      "decoder_tgru (TerminalGRU)       (None, 34, 22)        34232       decoder_gru2[0][0]               \n",
      "                                                                   decoder_true_seq_input[0][0]     \n",
      "====================================================================================================\n",
      "Total params: 3,864,284\n",
      "Trainable params: 3,863,972\n",
      "Non-trainable params: 312\n",
      "____________________________________________________________________________________________________\n",
      "None\n"
     ]
    }
   ],
   "source": [
    "print(\"Encoder:\")\n",
    "print(vae_qm9.enc.summary())\n",
    "print(\"----------------------------------------------------------\")\n",
    "print(\"Decoder:\")\n",
    "print(vae_qm9.dec.summary())"
   ]
  },
  {
   "cell_type": "markdown",
   "metadata": {},
   "source": [
    "## With property prediction"
   ]
  },
  {
   "cell_type": "code",
   "execution_count": 8,
   "metadata": {},
   "outputs": [
    {
     "name": "stdout",
     "output_type": "stream",
     "text": [
      "Encoder:\n",
      "_________________________________________________________________\n",
      "Layer (type)                 Output Shape              Param #   \n",
      "=================================================================\n",
      "input_molecule_smi (InputLay (None, 34, 22)            0         \n",
      "_________________________________________________________________\n",
      "encoder_conv0 (Conv1D)       (None, 30, 2)             222       \n",
      "_________________________________________________________________\n",
      "encoder_norm0 (BatchNormaliz (None, 30, 2)             8         \n",
      "_________________________________________________________________\n",
      "encoder_conv1 (Conv1D)       (None, 26, 2)             22        \n",
      "_________________________________________________________________\n",
      "encoder_norm1 (BatchNormaliz (None, 26, 2)             8         \n",
      "_________________________________________________________________\n",
      "encoder_conv2 (Conv1D)       (None, 23, 1)             9         \n",
      "_________________________________________________________________\n",
      "encoder_norm2 (BatchNormaliz (None, 23, 1)             4         \n",
      "_________________________________________________________________\n",
      "flatten_1 (Flatten)          (None, 23)                0         \n",
      "_________________________________________________________________\n",
      "encoder_dense0 (Dense)       (None, 156)               3744      \n",
      "_________________________________________________________________\n",
      "dropout_1 (Dropout)          (None, 156)               0         \n",
      "_________________________________________________________________\n",
      "encoder_dense0_norm (BatchNo (None, 156)               624       \n",
      "_________________________________________________________________\n",
      "z_mean_sample (Dense)        (None, 156)               24492     \n",
      "=================================================================\n",
      "Total params: 29,133\n",
      "Trainable params: 28,811\n",
      "Non-trainable params: 322\n",
      "_________________________________________________________________\n",
      "None\n",
      "----------------------------------------------------------\n",
      "Decoder:\n",
      "____________________________________________________________________________________________________\n",
      "Layer (type)                     Output Shape          Param #     Connected to                     \n",
      "====================================================================================================\n",
      "decoder_input (InputLayer)       (None, 156)           0                                            \n",
      "____________________________________________________________________________________________________\n",
      "decoder_dense0 (Dense)           (None, 156)           24492       decoder_input[0][0]              \n",
      "____________________________________________________________________________________________________\n",
      "dropout_2 (Dropout)              (None, 156)           0           decoder_dense0[0][0]             \n",
      "____________________________________________________________________________________________________\n",
      "decoder_dense0_norm (BatchNormal (None, 156)           624         dropout_2[0][0]                  \n",
      "____________________________________________________________________________________________________\n",
      "repeat_vector_1 (RepeatVector)   (None, 34, 156)       0           decoder_dense0_norm[0][0]        \n",
      "____________________________________________________________________________________________________\n",
      "decoder_gru0 (GRU)               (None, 34, 488)       944280      repeat_vector_1[0][0]            \n",
      "____________________________________________________________________________________________________\n",
      "decoder_gru1 (GRU)               (None, 34, 488)       1430328     decoder_gru0[0][0]               \n",
      "____________________________________________________________________________________________________\n",
      "decoder_gru2 (GRU)               (None, 34, 488)       1430328     decoder_gru1[0][0]               \n",
      "____________________________________________________________________________________________________\n",
      "decoder_true_seq_input (InputLay (None, 34, 22)        0                                            \n",
      "____________________________________________________________________________________________________\n",
      "decoder_tgru (TerminalGRU)       (None, 34, 22)        34232       decoder_gru2[0][0]               \n",
      "                                                                   decoder_true_seq_input[0][0]     \n",
      "====================================================================================================\n",
      "Total params: 3,864,284\n",
      "Trainable params: 3,863,972\n",
      "Non-trainable params: 312\n",
      "____________________________________________________________________________________________________\n",
      "None\n",
      "----------------------------------------------------------\n",
      "Property Predictor:\n",
      "_________________________________________________________________\n",
      "Layer (type)                 Output Shape              Param #   \n",
      "=================================================================\n",
      "prop_pred_input (InputLayer) (None, 156)               0         \n",
      "_________________________________________________________________\n",
      "dense_1 (Dense)              (None, 67)                10519     \n",
      "_________________________________________________________________\n",
      "dropout_3 (Dropout)          (None, 67)                0         \n",
      "_________________________________________________________________\n",
      "property_predictor_dense1 (D (None, 66)                4488      \n",
      "_________________________________________________________________\n",
      "dropout_4 (Dropout)          (None, 66)                0         \n",
      "_________________________________________________________________\n",
      "batch_normalization_1 (Batch (None, 66)                264       \n",
      "_________________________________________________________________\n",
      "property_predictor_dense2 (D (None, 65)                4355      \n",
      "_________________________________________________________________\n",
      "dropout_5 (Dropout)          (None, 65)                0         \n",
      "_________________________________________________________________\n",
      "batch_normalization_2 (Batch (None, 65)                260       \n",
      "_________________________________________________________________\n",
      "reg_property_output (Dense)  (None, 3)                 198       \n",
      "=================================================================\n",
      "Total params: 20,084\n",
      "Trainable params: 19,822\n",
      "Non-trainable params: 262\n",
      "_________________________________________________________________\n",
      "None\n"
     ]
    }
   ],
   "source": [
    "print(\"Encoder:\")\n",
    "print(vae_qm9_prop.enc.summary())\n",
    "print(\"----------------------------------------------------------\")\n",
    "print(\"Decoder:\")\n",
    "print(vae_qm9_prop.dec.summary())\n",
    "print(\"----------------------------------------------------------\")\n",
    "print(\"Property Predictor:\")\n",
    "print(vae_qm9_prop.property_predictor.summary())"
   ]
  }
 ],
 "metadata": {
  "kernelspec": {
   "display_name": "chemvae",
   "language": "python",
   "name": "python3"
  },
  "language_info": {
   "codemirror_mode": {
    "name": "ipython",
    "version": 3
   },
   "file_extension": ".py",
   "mimetype": "text/x-python",
   "name": "python",
   "nbconvert_exporter": "python",
   "pygments_lexer": "ipython3",
   "version": "3.6.13"
  }
 },
 "nbformat": 4,
 "nbformat_minor": 2
}
