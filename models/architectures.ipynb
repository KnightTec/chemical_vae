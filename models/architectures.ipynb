{
 "cells": [
  {
   "cell_type": "code",
   "execution_count": 1,
   "metadata": {},
   "outputs": [
    {
     "name": "stderr",
     "output_type": "stream",
     "text": [
      "Using TensorFlow backend.\n"
     ]
    }
   ],
   "source": [
    "import pubchempy as pcp\n",
    "import seaborn as sns\n",
    "\n",
    "# tensorflow backend\n",
    "from os import environ\n",
    "environ['KERAS_BACKEND'] = 'tensorflow'\n",
    "# vae stuff\n",
    "from chemvae.vae_utils import VAEUtils\n",
    "from chemvae import mol_utils as mu\n",
    "# import scientific py\n",
    "import numpy as np\n",
    "import pandas as pd\n",
    "# plotting stuff\n",
    "import matplotlib.pyplot as plt\n",
    "import matplotlib as mpl\n",
    "from IPython.display import SVG, display\n",
    "%config InlineBackend.figure_format = 'retina'\n",
    "%matplotlib inline"
   ]
  },
  {
   "cell_type": "markdown",
   "metadata": {},
   "source": [
    "# ZINC models"
   ]
  },
  {
   "cell_type": "code",
   "execution_count": 7,
   "metadata": {},
   "outputs": [
    {
     "name": "stderr",
     "output_type": "stream",
     "text": [
      "/home/sven/miniconda3/envs/chemvae/lib/python3.6/site-packages/keras/models.py:245: UserWarning: No training configuration found in save file: the model was *not* compiled. Compile it manually.\n",
      "  warnings.warn('No training configuration found in save file: '\n"
     ]
    },
    {
     "name": "stdout",
     "output_type": "stream",
     "text": [
      "Using standarized functions? True\n",
      "Standarization: estimating mu and std values ...done!\n"
     ]
    },
    {
     "name": "stderr",
     "output_type": "stream",
     "text": [
      "/home/sven/miniconda3/envs/chemvae/lib/python3.6/site-packages/keras/models.py:245: UserWarning: No training configuration found in save file: the model was *not* compiled. Compile it manually.\n",
      "  warnings.warn('No training configuration found in save file: '\n"
     ]
    },
    {
     "name": "stdout",
     "output_type": "stream",
     "text": [
      "Using standarized functions? True\n",
      "Standarization: estimating mu and std values ...done!\n"
     ]
    },
    {
     "name": "stderr",
     "output_type": "stream",
     "text": [
      "/home/sven/miniconda3/envs/chemvae/lib/python3.6/site-packages/keras/models.py:245: UserWarning: No training configuration found in save file: the model was *not* compiled. Compile it manually.\n",
      "  warnings.warn('No training configuration found in save file: '\n"
     ]
    },
    {
     "name": "stdout",
     "output_type": "stream",
     "text": [
      "Using standarized functions? True\n",
      "Standarization: estimating mu and std values ...done!\n"
     ]
    },
    {
     "name": "stderr",
     "output_type": "stream",
     "text": [
      "/home/sven/miniconda3/envs/chemvae/lib/python3.6/site-packages/keras/models.py:245: UserWarning: No training configuration found in save file: the model was *not* compiled. Compile it manually.\n",
      "  warnings.warn('No training configuration found in save file: '\n"
     ]
    },
    {
     "name": "stdout",
     "output_type": "stream",
     "text": [
      "Using standarized functions? True\n",
      "Standarization: estimating mu and std values ...done!\n"
     ]
    }
   ],
   "source": [
    "vae_zinc = VAEUtils(directory='../models/zinc')\n",
    "vae_zinc_prop = VAEUtils(directory='../models/zinc_properties')\n",
    "\n",
    "vae_zinc_2 = VAEUtils(directory='../models/zinc_2')\n",
    "vae_zinc_prop_2 = VAEUtils(directory='../models/zinc_properties_2')"
   ]
  },
  {
   "cell_type": "markdown",
   "metadata": {},
   "source": [
    "## Without property predection"
   ]
  },
  {
   "cell_type": "code",
   "execution_count": 9,
   "metadata": {},
   "outputs": [
    {
     "name": "stdout",
     "output_type": "stream",
     "text": [
      "Encoder:\n",
      "_________________________________________________________________\n",
      "Layer (type)                 Output Shape              Param #   \n",
      "=================================================================\n",
      "input_molecule_smi (InputLay (None, 120, 35)           0         \n",
      "_________________________________________________________________\n",
      "encoder_conv0 (Conv1D)       (None, 112, 9)            2844      \n",
      "_________________________________________________________________\n",
      "encoder_norm0 (BatchNormaliz (None, 112, 9)            36        \n",
      "_________________________________________________________________\n",
      "encoder_conv1 (Conv1D)       (None, 104, 9)            738       \n",
      "_________________________________________________________________\n",
      "encoder_norm1 (BatchNormaliz (None, 104, 9)            36        \n",
      "_________________________________________________________________\n",
      "encoder_conv2 (Conv1D)       (None, 94, 10)            1000      \n",
      "_________________________________________________________________\n",
      "encoder_norm2 (BatchNormaliz (None, 94, 10)            40        \n",
      "_________________________________________________________________\n",
      "flatten_1 (Flatten)          (None, 940)               0         \n",
      "_________________________________________________________________\n",
      "encoder_dense0 (Dense)       (None, 196)               184436    \n",
      "_________________________________________________________________\n",
      "dropout_1 (Dropout)          (None, 196)               0         \n",
      "_________________________________________________________________\n",
      "encoder_dense0_norm (BatchNo (None, 196)               784       \n",
      "_________________________________________________________________\n",
      "z_mean_sample (Dense)        (None, 196)               38612     \n",
      "=================================================================\n",
      "Total params: 228,526\n",
      "Trainable params: 228,078\n",
      "Non-trainable params: 448\n",
      "_________________________________________________________________\n",
      "None\n",
      "----------------------------------------------------------\n",
      "Decoder:\n",
      "____________________________________________________________________________________________________\n",
      "Layer (type)                     Output Shape          Param #     Connected to                     \n",
      "====================================================================================================\n",
      "decoder_input (InputLayer)       (None, 196)           0                                            \n",
      "____________________________________________________________________________________________________\n",
      "decoder_dense0 (Dense)           (None, 196)           38612       decoder_input[0][0]              \n",
      "____________________________________________________________________________________________________\n",
      "dropout_2 (Dropout)              (None, 196)           0           decoder_dense0[0][0]             \n",
      "____________________________________________________________________________________________________\n",
      "decoder_dense0_norm (BatchNormal (None, 196)           784         dropout_2[0][0]                  \n",
      "____________________________________________________________________________________________________\n",
      "repeat_vector_1 (RepeatVector)   (None, 120, 196)      0           decoder_dense0_norm[0][0]        \n",
      "____________________________________________________________________________________________________\n",
      "decoder_gru0 (GRU)               (None, 120, 488)      1002840     repeat_vector_1[0][0]            \n",
      "____________________________________________________________________________________________________\n",
      "decoder_gru1 (GRU)               (None, 120, 488)      1430328     decoder_gru0[0][0]               \n",
      "____________________________________________________________________________________________________\n",
      "decoder_gru2 (GRU)               (None, 120, 488)      1430328     decoder_gru1[0][0]               \n",
      "____________________________________________________________________________________________________\n",
      "decoder_true_seq_input (InputLay (None, 120, 35)       0                                            \n",
      "____________________________________________________________________________________________________\n",
      "decoder_tgru (TerminalGRU)       (None, 120, 35)       56280       decoder_gru2[0][0]               \n",
      "                                                                   decoder_true_seq_input[0][0]     \n",
      "====================================================================================================\n",
      "Total params: 3,959,172\n",
      "Trainable params: 3,958,780\n",
      "Non-trainable params: 392\n",
      "____________________________________________________________________________________________________\n",
      "None\n"
     ]
    }
   ],
   "source": [
    "print(\"Encoder:\")\n",
    "print(vae_zinc.enc.summary())\n",
    "print(\"----------------------------------------------------------\")\n",
    "print(\"Decoder:\")\n",
    "print(vae_zinc.dec.summary())"
   ]
  },
  {
   "cell_type": "markdown",
   "metadata": {},
   "source": [
    "## With property predection"
   ]
  },
  {
   "cell_type": "code",
   "execution_count": 11,
   "metadata": {},
   "outputs": [
    {
     "name": "stdout",
     "output_type": "stream",
     "text": [
      "Encoder:\n",
      "_________________________________________________________________\n",
      "Layer (type)                 Output Shape              Param #   \n",
      "=================================================================\n",
      "input_molecule_smi (InputLay (None, 120, 35)           0         \n",
      "_________________________________________________________________\n",
      "encoder_conv0 (Conv1D)       (None, 112, 9)            2844      \n",
      "_________________________________________________________________\n",
      "encoder_norm0 (BatchNormaliz (None, 112, 9)            36        \n",
      "_________________________________________________________________\n",
      "encoder_conv1 (Conv1D)       (None, 104, 9)            738       \n",
      "_________________________________________________________________\n",
      "encoder_norm1 (BatchNormaliz (None, 104, 9)            36        \n",
      "_________________________________________________________________\n",
      "encoder_conv2 (Conv1D)       (None, 94, 10)            1000      \n",
      "_________________________________________________________________\n",
      "encoder_norm2 (BatchNormaliz (None, 94, 10)            40        \n",
      "_________________________________________________________________\n",
      "flatten_1 (Flatten)          (None, 940)               0         \n",
      "_________________________________________________________________\n",
      "encoder_dense0 (Dense)       (None, 196)               184436    \n",
      "_________________________________________________________________\n",
      "dropout_1 (Dropout)          (None, 196)               0         \n",
      "_________________________________________________________________\n",
      "encoder_dense0_norm (BatchNo (None, 196)               784       \n",
      "_________________________________________________________________\n",
      "z_mean_sample (Dense)        (None, 196)               38612     \n",
      "=================================================================\n",
      "Total params: 228,526\n",
      "Trainable params: 228,078\n",
      "Non-trainable params: 448\n",
      "_________________________________________________________________\n",
      "None\n",
      "----------------------------------------------------------\n",
      "Decoder:\n",
      "____________________________________________________________________________________________________\n",
      "Layer (type)                     Output Shape          Param #     Connected to                     \n",
      "====================================================================================================\n",
      "decoder_input (InputLayer)       (None, 196)           0                                            \n",
      "____________________________________________________________________________________________________\n",
      "decoder_dense0 (Dense)           (None, 196)           38612       decoder_input[0][0]              \n",
      "____________________________________________________________________________________________________\n",
      "dropout_2 (Dropout)              (None, 196)           0           decoder_dense0[0][0]             \n",
      "____________________________________________________________________________________________________\n",
      "decoder_dense0_norm (BatchNormal (None, 196)           784         dropout_2[0][0]                  \n",
      "____________________________________________________________________________________________________\n",
      "repeat_vector_1 (RepeatVector)   (None, 120, 196)      0           decoder_dense0_norm[0][0]        \n",
      "____________________________________________________________________________________________________\n",
      "decoder_gru0 (GRU)               (None, 120, 488)      1002840     repeat_vector_1[0][0]            \n",
      "____________________________________________________________________________________________________\n",
      "decoder_gru1 (GRU)               (None, 120, 488)      1430328     decoder_gru0[0][0]               \n",
      "____________________________________________________________________________________________________\n",
      "decoder_gru2 (GRU)               (None, 120, 488)      1430328     decoder_gru1[0][0]               \n",
      "____________________________________________________________________________________________________\n",
      "decoder_true_seq_input (InputLay (None, 120, 35)       0                                            \n",
      "____________________________________________________________________________________________________\n",
      "decoder_tgru (TerminalGRU)       (None, 120, 35)       56280       decoder_gru2[0][0]               \n",
      "                                                                   decoder_true_seq_input[0][0]     \n",
      "====================================================================================================\n",
      "Total params: 3,959,172\n",
      "Trainable params: 3,958,780\n",
      "Non-trainable params: 392\n",
      "____________________________________________________________________________________________________\n",
      "None\n",
      "----------------------------------------------------------\n",
      "Property Predictor:\n",
      "_________________________________________________________________\n",
      "Layer (type)                 Output Shape              Param #   \n",
      "=================================================================\n",
      "prop_pred_input (InputLayer) (None, 196)               0         \n",
      "_________________________________________________________________\n",
      "dense_1 (Dense)              (None, 67)                13199     \n",
      "_________________________________________________________________\n",
      "dropout_3 (Dropout)          (None, 67)                0         \n",
      "_________________________________________________________________\n",
      "property_predictor_dense1 (D (None, 66)                4488      \n",
      "_________________________________________________________________\n",
      "dropout_4 (Dropout)          (None, 66)                0         \n",
      "_________________________________________________________________\n",
      "batch_normalization_1 (Batch (None, 66)                264       \n",
      "_________________________________________________________________\n",
      "property_predictor_dense2 (D (None, 65)                4355      \n",
      "_________________________________________________________________\n",
      "dropout_5 (Dropout)          (None, 65)                0         \n",
      "_________________________________________________________________\n",
      "batch_normalization_2 (Batch (None, 65)                260       \n",
      "_________________________________________________________________\n",
      "reg_property_output (Dense)  (None, 3)                 198       \n",
      "=================================================================\n",
      "Total params: 22,764\n",
      "Trainable params: 22,502\n",
      "Non-trainable params: 262\n",
      "_________________________________________________________________\n",
      "None\n"
     ]
    }
   ],
   "source": [
    "print(\"Encoder:\")\n",
    "print(vae_zinc_prop.enc.summary())\n",
    "print(\"----------------------------------------------------------\")\n",
    "print(\"Decoder:\")\n",
    "print(vae_zinc_prop.dec.summary())\n",
    "print(\"----------------------------------------------------------\")\n",
    "print(\"Property Predictor:\")\n",
    "print(vae_zinc_prop.property_predictor.summary())"
   ]
  },
  {
   "cell_type": "markdown",
   "metadata": {},
   "source": []
  },
  {
   "cell_type": "markdown",
   "metadata": {},
   "source": [
    "# QM9 Models"
   ]
  },
  {
   "cell_type": "code",
   "execution_count": 12,
   "metadata": {},
   "outputs": [
    {
     "name": "stderr",
     "output_type": "stream",
     "text": [
      "/home/sven/miniconda3/envs/chemvae/lib/python3.6/site-packages/keras/models.py:245: UserWarning: No training configuration found in save file: the model was *not* compiled. Compile it manually.\n",
      "  warnings.warn('No training configuration found in save file: '\n"
     ]
    },
    {
     "name": "stdout",
     "output_type": "stream",
     "text": [
      "Using standarized functions? True\n",
      "Standarization: estimating mu and std values ..."
     ]
    },
    {
     "name": "stderr",
     "output_type": "stream",
     "text": [
      "RDKit ERROR: [11:30:32] Explicit valence for atom # 5 N, 4, is greater than permitted\n"
     ]
    },
    {
     "ename": "ArgumentError",
     "evalue": "Python argument types in\n    rdkit.Chem.rdmolfiles.MolToSmiles(NoneType)\ndid not match C++ signature:\n    MolToSmiles(RDKit::ROMol mol, bool isomericSmiles=True, bool kekuleSmiles=False, int rootedAtAtom=-1, bool canonical=True, bool allBondsExplicit=False, bool allHsExplicit=False, bool doRandom=False)\n    MolToSmiles(RDKit::ROMol mol, RDKit::SmilesWriteParams params)",
     "output_type": "error",
     "traceback": [
      "\u001b[0;31m---------------------------------------------------------------------------\u001b[0m",
      "\u001b[0;31mArgumentError\u001b[0m                             Traceback (most recent call last)",
      "\u001b[0;32m<ipython-input-12-89b0f4a7d012>\u001b[0m in \u001b[0;36m<module>\u001b[0;34m\u001b[0m\n\u001b[0;32m----> 1\u001b[0;31m \u001b[0mvae_zinc\u001b[0m \u001b[0;34m=\u001b[0m \u001b[0mVAEUtils\u001b[0m\u001b[0;34m(\u001b[0m\u001b[0mdirectory\u001b[0m\u001b[0;34m=\u001b[0m\u001b[0;34m'../models/qm9'\u001b[0m\u001b[0;34m)\u001b[0m\u001b[0;34m\u001b[0m\u001b[0;34m\u001b[0m\u001b[0m\n\u001b[0m\u001b[1;32m      2\u001b[0m \u001b[0mvae_zinc_prop\u001b[0m \u001b[0;34m=\u001b[0m \u001b[0mVAEUtils\u001b[0m\u001b[0;34m(\u001b[0m\u001b[0mdirectory\u001b[0m\u001b[0;34m=\u001b[0m\u001b[0;34m'../models/qm9_properties'\u001b[0m\u001b[0;34m)\u001b[0m\u001b[0;34m\u001b[0m\u001b[0;34m\u001b[0m\u001b[0m\n",
      "\u001b[0;32m~/miniconda3/envs/chemvae/lib/python3.6/site-packages/chemvae-1.0.0-py3.6.egg/chemvae/vae_utils.py\u001b[0m in \u001b[0;36m__init__\u001b[0;34m(self, exp_file, encoder_file, decoder_file, directory)\u001b[0m\n\u001b[1;32m     50\u001b[0m             \u001b[0mself\u001b[0m\u001b[0;34m.\u001b[0m\u001b[0mdata\u001b[0m \u001b[0;34m=\u001b[0m \u001b[0mdf\u001b[0m\u001b[0;34m.\u001b[0m\u001b[0miloc\u001b[0m\u001b[0;34m[\u001b[0m\u001b[0;34m:\u001b[0m\u001b[0;34m,\u001b[0m \u001b[0;36m1\u001b[0m\u001b[0;34m:\u001b[0m\u001b[0;34m]\u001b[0m\u001b[0;34m\u001b[0m\u001b[0;34m\u001b[0m\u001b[0m\n\u001b[1;32m     51\u001b[0m \u001b[0;34m\u001b[0m\u001b[0m\n\u001b[0;32m---> 52\u001b[0;31m         \u001b[0mself\u001b[0m\u001b[0;34m.\u001b[0m\u001b[0mestimate_estandarization\u001b[0m\u001b[0;34m(\u001b[0m\u001b[0;34m)\u001b[0m\u001b[0;34m\u001b[0m\u001b[0;34m\u001b[0m\u001b[0m\n\u001b[0m\u001b[1;32m     53\u001b[0m         \u001b[0;32mif\u001b[0m \u001b[0mdirectory\u001b[0m \u001b[0;32mis\u001b[0m \u001b[0;32mnot\u001b[0m \u001b[0;32mNone\u001b[0m\u001b[0;34m:\u001b[0m\u001b[0;34m\u001b[0m\u001b[0;34m\u001b[0m\u001b[0m\n\u001b[1;32m     54\u001b[0m             \u001b[0mos\u001b[0m\u001b[0;34m.\u001b[0m\u001b[0mchdir\u001b[0m\u001b[0;34m(\u001b[0m\u001b[0mcurdir\u001b[0m\u001b[0;34m)\u001b[0m\u001b[0;34m\u001b[0m\u001b[0;34m\u001b[0m\u001b[0m\n",
      "\u001b[0;32m~/miniconda3/envs/chemvae/lib/python3.6/site-packages/chemvae-1.0.0-py3.6.egg/chemvae/vae_utils.py\u001b[0m in \u001b[0;36mestimate_estandarization\u001b[0;34m(self)\u001b[0m\n\u001b[1;32m     64\u001b[0m         \u001b[0;32mfor\u001b[0m \u001b[0mchunk\u001b[0m \u001b[0;32min\u001b[0m \u001b[0mself\u001b[0m\u001b[0;34m.\u001b[0m\u001b[0mchunks\u001b[0m\u001b[0;34m(\u001b[0m\u001b[0mlist\u001b[0m\u001b[0;34m(\u001b[0m\u001b[0mrange\u001b[0m\u001b[0;34m(\u001b[0m\u001b[0mlen\u001b[0m\u001b[0;34m(\u001b[0m\u001b[0msmiles\u001b[0m\u001b[0;34m)\u001b[0m\u001b[0;34m)\u001b[0m\u001b[0;34m)\u001b[0m\u001b[0;34m,\u001b[0m \u001b[0mbatch\u001b[0m\u001b[0;34m)\u001b[0m\u001b[0;34m:\u001b[0m\u001b[0;34m\u001b[0m\u001b[0;34m\u001b[0m\u001b[0m\n\u001b[1;32m     65\u001b[0m             \u001b[0msub_smiles\u001b[0m \u001b[0;34m=\u001b[0m \u001b[0;34m[\u001b[0m\u001b[0msmiles\u001b[0m\u001b[0;34m[\u001b[0m\u001b[0mi\u001b[0m\u001b[0;34m]\u001b[0m \u001b[0;32mfor\u001b[0m \u001b[0mi\u001b[0m \u001b[0;32min\u001b[0m \u001b[0mchunk\u001b[0m\u001b[0;34m]\u001b[0m\u001b[0;34m\u001b[0m\u001b[0;34m\u001b[0m\u001b[0m\n\u001b[0;32m---> 66\u001b[0;31m             \u001b[0mone_hot\u001b[0m \u001b[0;34m=\u001b[0m \u001b[0mself\u001b[0m\u001b[0;34m.\u001b[0m\u001b[0msmiles_to_hot\u001b[0m\u001b[0;34m(\u001b[0m\u001b[0msub_smiles\u001b[0m\u001b[0;34m)\u001b[0m\u001b[0;34m\u001b[0m\u001b[0;34m\u001b[0m\u001b[0m\n\u001b[0m\u001b[1;32m     67\u001b[0m             \u001b[0mZ\u001b[0m\u001b[0;34m[\u001b[0m\u001b[0mchunk\u001b[0m\u001b[0;34m,\u001b[0m \u001b[0;34m:\u001b[0m\u001b[0;34m]\u001b[0m \u001b[0;34m=\u001b[0m \u001b[0mself\u001b[0m\u001b[0;34m.\u001b[0m\u001b[0mencode\u001b[0m\u001b[0;34m(\u001b[0m\u001b[0mone_hot\u001b[0m\u001b[0;34m,\u001b[0m \u001b[0;32mFalse\u001b[0m\u001b[0;34m)\u001b[0m\u001b[0;34m\u001b[0m\u001b[0;34m\u001b[0m\u001b[0m\n\u001b[1;32m     68\u001b[0m \u001b[0;34m\u001b[0m\u001b[0m\n",
      "\u001b[0;32m~/miniconda3/envs/chemvae/lib/python3.6/site-packages/chemvae-1.0.0-py3.6.egg/chemvae/vae_utils.py\u001b[0m in \u001b[0;36msmiles_to_hot\u001b[0;34m(self, smiles, canonize_smiles, check_smiles)\u001b[0m\n\u001b[1;32m    258\u001b[0m \u001b[0;34m\u001b[0m\u001b[0m\n\u001b[1;32m    259\u001b[0m         \u001b[0;32mif\u001b[0m \u001b[0mcanonize_smiles\u001b[0m\u001b[0;34m:\u001b[0m\u001b[0;34m\u001b[0m\u001b[0;34m\u001b[0m\u001b[0m\n\u001b[0;32m--> 260\u001b[0;31m             \u001b[0msmiles\u001b[0m \u001b[0;34m=\u001b[0m \u001b[0;34m[\u001b[0m\u001b[0mmu\u001b[0m\u001b[0;34m.\u001b[0m\u001b[0mcanon_smiles\u001b[0m\u001b[0;34m(\u001b[0m\u001b[0ms\u001b[0m\u001b[0;34m)\u001b[0m \u001b[0;32mfor\u001b[0m \u001b[0ms\u001b[0m \u001b[0;32min\u001b[0m \u001b[0msmiles\u001b[0m\u001b[0;34m]\u001b[0m\u001b[0;34m\u001b[0m\u001b[0;34m\u001b[0m\u001b[0m\n\u001b[0m\u001b[1;32m    261\u001b[0m \u001b[0;34m\u001b[0m\u001b[0m\n\u001b[1;32m    262\u001b[0m         \u001b[0;32mif\u001b[0m \u001b[0mcheck_smiles\u001b[0m\u001b[0;34m:\u001b[0m\u001b[0;34m\u001b[0m\u001b[0;34m\u001b[0m\u001b[0m\n",
      "\u001b[0;32m~/miniconda3/envs/chemvae/lib/python3.6/site-packages/chemvae-1.0.0-py3.6.egg/chemvae/vae_utils.py\u001b[0m in \u001b[0;36m<listcomp>\u001b[0;34m(.0)\u001b[0m\n\u001b[1;32m    258\u001b[0m \u001b[0;34m\u001b[0m\u001b[0m\n\u001b[1;32m    259\u001b[0m         \u001b[0;32mif\u001b[0m \u001b[0mcanonize_smiles\u001b[0m\u001b[0;34m:\u001b[0m\u001b[0;34m\u001b[0m\u001b[0;34m\u001b[0m\u001b[0m\n\u001b[0;32m--> 260\u001b[0;31m             \u001b[0msmiles\u001b[0m \u001b[0;34m=\u001b[0m \u001b[0;34m[\u001b[0m\u001b[0mmu\u001b[0m\u001b[0;34m.\u001b[0m\u001b[0mcanon_smiles\u001b[0m\u001b[0;34m(\u001b[0m\u001b[0ms\u001b[0m\u001b[0;34m)\u001b[0m \u001b[0;32mfor\u001b[0m \u001b[0ms\u001b[0m \u001b[0;32min\u001b[0m \u001b[0msmiles\u001b[0m\u001b[0;34m]\u001b[0m\u001b[0;34m\u001b[0m\u001b[0;34m\u001b[0m\u001b[0m\n\u001b[0m\u001b[1;32m    261\u001b[0m \u001b[0;34m\u001b[0m\u001b[0m\n\u001b[1;32m    262\u001b[0m         \u001b[0;32mif\u001b[0m \u001b[0mcheck_smiles\u001b[0m\u001b[0;34m:\u001b[0m\u001b[0;34m\u001b[0m\u001b[0;34m\u001b[0m\u001b[0m\n",
      "\u001b[0;32m~/miniconda3/envs/chemvae/lib/python3.6/site-packages/chemvae-1.0.0-py3.6.egg/chemvae/mol_utils.py\u001b[0m in \u001b[0;36mcanon_smiles\u001b[0;34m(smi)\u001b[0m\n\u001b[1;32m    250\u001b[0m \u001b[0;34m\u001b[0m\u001b[0m\n\u001b[1;32m    251\u001b[0m \u001b[0;32mdef\u001b[0m \u001b[0mcanon_smiles\u001b[0m\u001b[0;34m(\u001b[0m\u001b[0msmi\u001b[0m\u001b[0;34m)\u001b[0m\u001b[0;34m:\u001b[0m\u001b[0;34m\u001b[0m\u001b[0;34m\u001b[0m\u001b[0m\n\u001b[0;32m--> 252\u001b[0;31m     \u001b[0;32mreturn\u001b[0m \u001b[0mChem\u001b[0m\u001b[0;34m.\u001b[0m\u001b[0mMolToSmiles\u001b[0m\u001b[0;34m(\u001b[0m\u001b[0mChem\u001b[0m\u001b[0;34m.\u001b[0m\u001b[0mMolFromSmiles\u001b[0m\u001b[0;34m(\u001b[0m\u001b[0msmi\u001b[0m\u001b[0;34m)\u001b[0m\u001b[0;34m,\u001b[0m \u001b[0misomericSmiles\u001b[0m\u001b[0;34m=\u001b[0m\u001b[0;32mTrue\u001b[0m\u001b[0;34m,\u001b[0m \u001b[0mcanonical\u001b[0m\u001b[0;34m=\u001b[0m\u001b[0;32mTrue\u001b[0m\u001b[0;34m)\u001b[0m\u001b[0;34m\u001b[0m\u001b[0;34m\u001b[0m\u001b[0m\n\u001b[0m\u001b[1;32m    253\u001b[0m \u001b[0;34m\u001b[0m\u001b[0m\n\u001b[1;32m    254\u001b[0m \u001b[0;34m\u001b[0m\u001b[0m\n",
      "\u001b[0;31mArgumentError\u001b[0m: Python argument types in\n    rdkit.Chem.rdmolfiles.MolToSmiles(NoneType)\ndid not match C++ signature:\n    MolToSmiles(RDKit::ROMol mol, bool isomericSmiles=True, bool kekuleSmiles=False, int rootedAtAtom=-1, bool canonical=True, bool allBondsExplicit=False, bool allHsExplicit=False, bool doRandom=False)\n    MolToSmiles(RDKit::ROMol mol, RDKit::SmilesWriteParams params)"
     ]
    }
   ],
   "source": [
    "vae_zinc = VAEUtils(directory='../models/qm9')\n",
    "vae_zinc_prop = VAEUtils(directory='../models/qm9_properties')"
   ]
  }
 ],
 "metadata": {
  "kernelspec": {
   "display_name": "chemvae",
   "language": "python",
   "name": "python3"
  },
  "language_info": {
   "codemirror_mode": {
    "name": "ipython",
    "version": 3
   },
   "file_extension": ".py",
   "mimetype": "text/x-python",
   "name": "python",
   "nbconvert_exporter": "python",
   "pygments_lexer": "ipython3",
   "version": "3.6.13"
  }
 },
 "nbformat": 4,
 "nbformat_minor": 2
}
